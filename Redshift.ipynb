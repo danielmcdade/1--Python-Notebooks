{
 "metadata": {
  "name": "",
  "signature": "sha256:c1986da85d8d90967010f81e0bbaeeba9de842d535966d35f64495a741442ab0"
 },
 "nbformat": 3,
 "nbformat_minor": 0,
 "worksheets": [
  {
   "cells": [
    {
     "cell_type": "code",
     "collapsed": false,
     "input": [
      "#sqlalchemy\n",
      "\n",
      "import datetime\n",
      "import postgresql\n",
      "import pandas\n",
      "from pandas import DataFrame as df\n",
      "pandas.options.display.max_rows = 999\n",
      "pandas.options.display.max_columns = 999\n",
      "\n",
      "from pandas import pivot_table\n",
      "from IPython import display\n",
      "import numpy as np\n",
      "import matplotlib.pyplot as plt\n",
      "%matplotlib inline\n",
      "#plt.figure(); rev_piv.plot(figsize=(15,15));\n",
      "\n",
      "status = \"\"\"SELECT * \n",
      "        FROM stv_recents \n",
      "        WHERE user_name = 'dmcdade_ro' AND status <> 'Done' \n",
      "        ORDER BY starttime DESC limit 10;\"\"\"\n",
      "\n",
      "opstatus = \"\"\"SELECT * \n",
      "        FROM stv_recents \n",
      "        WHERE user_name = 'ops_data' AND status <> 'Done' \n",
      "        ORDER BY starttime DESC limit 10;\"\"\"\n",
      "\n",
      "db = postgresql.open(\n",
      "    user = 'dmcdade_ro'\n",
      "    , database = 'warehouse'\n",
      "    , password = 'BoH8VV3MXoiqqAaHnzsrRqqTvq'\n",
      "    , host = 'bt-data-production.cizsr4oqzecy.us-east-1.redshift.amazonaws.com'\n",
      "    , port = 5439\n",
      "    )\n",
      "\n",
      "ops_db = postgresql.open(\n",
      "    user = 'ops_data'\n",
      "    , database = 'warehouse'\n",
      "    , password = 'HWpxLgFnqMe4WV8YTEAyttdKzH'\n",
      "    , host = 'bt-data-production.cizsr4oqzecy.us-east-1.redshift.amazonaws.com'\n",
      "    , port = 5439\n",
      "    )\n",
      "    \n",
      "def quick(sql,con=db):\n",
      "    qres = con.query(sql)\n",
      "    return qres\n",
      "\n",
      "#below function provides a dataframe result of a query\n",
      "def detail(sql,con=db):\n",
      "    qex = con.prepare(sql)\n",
      "    qcn = qex.column_names\n",
      "    qdata = qex()\n",
      "    res = df(data=qdata,columns=qcn)\n",
      "    return res"
     ],
     "language": "python",
     "metadata": {},
     "outputs": [],
     "prompt_number": 53
    }
   ],
   "metadata": {}
  }
 ]
}

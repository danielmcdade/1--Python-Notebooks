{
 "cells": [
  {
   "cell_type": "code",
   "execution_count": 53,
   "metadata": {
    "collapsed": false
   },
   "outputs": [],
   "source": [
    "#sqlalchemy\n",
    "\n",
    "import datetime\n",
    "import postgresql\n",
    "import pandas\n",
    "from pandas import DataFrame as df\n",
    "pandas.options.display.max_rows = 999\n",
    "pandas.options.display.max_columns = 999\n",
    "\n",
    "from pandas import pivot_table\n",
    "from IPython import display\n",
    "import numpy as np\n",
    "import matplotlib.pyplot as plt\n",
    "%matplotlib inline\n",
    "#plt.figure(); rev_piv.plot(figsize=(15,15));\n",
    "\n",
    "status = \"\"\"SELECT * \n",
    "        FROM stv_recents \n",
    "        WHERE user_name = '' AND status <> 'Done' \n",
    "        ORDER BY starttime DESC limit 10;\"\"\"\n",
    "\n",
    "opstatus = \"\"\"SELECT * \n",
    "        FROM stv_recents \n",
    "        WHERE user_name = '' AND status <> 'Done' \n",
    "        ORDER BY starttime DESC limit 10;\"\"\"\n",
    "\n",
    "db = postgresql.open(\n",
    "    user = ''\n",
    "    , database = 'warehouse'\n",
    "    , password = ''\n",
    "    , host = ''\n",
    "    , port = 5439\n",
    "    )\n",
    "\n",
    "ops_db = postgresql.open(\n",
    "    user = ''\n",
    "    , database = 'warehouse'\n",
    "    , password = ''\n",
    "    , host = 'm'\n",
    "    , port = 5439\n",
    "    )\n",
    "    \n",
    "def quick(sql,con=db):\n",
    "    qres = con.query(sql)\n",
    "    return qres\n",
    "\n",
    "#below function provides a dataframe result of a query\n",
    "def detail(sql,con=db):\n",
    "    qex = con.prepare(sql)\n",
    "    qcn = qex.column_names\n",
    "    qdata = qex()\n",
    "    res = df(data=qdata,columns=qcn)\n",
    "    return res"
   ]
  }
 ],
 "metadata": {
  "kernelspec": {
   "display_name": "Python 2",
   "language": "python",
   "name": "python2"
  },
  "language_info": {
   "codemirror_mode": {
    "name": "ipython",
    "version": 2
   },
   "file_extension": ".py",
   "mimetype": "text/x-python",
   "name": "python",
   "nbconvert_exporter": "python",
   "pygments_lexer": "ipython2",
   "version": "2.7.11"
  }
 },
 "nbformat": 4,
 "nbformat_minor": 0
}

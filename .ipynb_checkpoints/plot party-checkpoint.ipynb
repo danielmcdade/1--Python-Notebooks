{
 "metadata": {
  "name": "",
  "signature": "sha256:e784bfa6215d8649a5afd03ddecdf98c7b055955a147e779d9f8aeed3d6cf82e"
 },
 "nbformat": 3,
 "nbformat_minor": 0,
 "worksheets": [
  {
   "cells": [
    {
     "cell_type": "code",
     "collapsed": false,
     "input": [
      "import plotly.plotly as py"
     ],
     "language": "python",
     "metadata": {},
     "outputs": [],
     "prompt_number": 7
    },
    {
     "cell_type": "code",
     "collapsed": false,
     "input": [
      "# (1) Two lists of numbers\n",
      "x1 = [1, 2, 3, 5, 6]\n",
      "y1 = [1, 4.5, 7, 24, 38]\n",
      "\n",
      "# (2) Make dictionary linking x and y coordinate lists to 'x' and 'y' keys\n",
      "trace1 = dict(x=x1, y=y1)\n",
      "\n",
      "# (3) Make list of 1 trace, to be sent to Plotly\n",
      "data = [trace1]"
     ],
     "language": "python",
     "metadata": {},
     "outputs": [],
     "prompt_number": 2
    },
    {
     "cell_type": "code",
     "collapsed": false,
     "input": [
      "py.sign_in('your_username','your_api_key')"
     ],
     "language": "python",
     "metadata": {},
     "outputs": [],
     "prompt_number": 10
    },
    {
     "cell_type": "code",
     "collapsed": false,
     "input": [
      "py.plot(data, filename='s0_first_plot')"
     ],
     "language": "python",
     "metadata": {},
     "outputs": [
      {
       "output_type": "stream",
       "stream": "stdout",
       "text": [
        "Aw, snap! We don't have an account for 'your_username'. Want to try again? You can authenticate with your email address or username. Sign in is not case sensitive.\n",
        "\n",
        "Don't have an account? plot.ly\n",
        "Questions? support@plot.ly\n"
       ]
      },
      {
       "metadata": {},
       "output_type": "pyout",
       "prompt_number": 12,
       "text": [
        "''"
       ]
      }
     ],
     "prompt_number": 12
    },
    {
     "cell_type": "code",
     "collapsed": false,
     "input": [
      "py.plot(data)"
     ],
     "language": "python",
     "metadata": {},
     "outputs": [
      {
       "output_type": "stream",
       "stream": "stdout",
       "text": [
        "Aw, snap! We don't have an account for 'your_username'. Want to try again? You can authenticate with your email address or username. Sign in is not case sensitive.\n",
        "\n",
        "Don't have an account? plot.ly\n",
        "Questions? support@plot.ly\n"
       ]
      },
      {
       "metadata": {},
       "output_type": "pyout",
       "prompt_number": 13,
       "text": [
        "''"
       ]
      }
     ],
     "prompt_number": 13
    },
    {
     "cell_type": "code",
     "collapsed": false,
     "input": [],
     "language": "python",
     "metadata": {},
     "outputs": []
    }
   ],
   "metadata": {}
  }
 ]
}

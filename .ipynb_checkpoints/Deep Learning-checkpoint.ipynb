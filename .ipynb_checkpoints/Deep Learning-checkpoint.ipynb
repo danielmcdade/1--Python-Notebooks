{
 "cells": [
  {
   "cell_type": "markdown",
   "metadata": {},
   "source": [
    "# Deep Learning with nolearn\n",
    "#### This is a sample of deep learning with the nolearn python module"
   ]
  },
  {
   "cell_type": "code",
   "execution_count": 2,
   "metadata": {
    "collapsed": false
   },
   "outputs": [],
   "source": [
    "# import the necessary packages\n",
    "from sklearn.cross_validation import train_test_split\n",
    "from sklearn.metrics import classification_report\n",
    "from sklearn import datasets\n",
    "from nolearn.dbn import DBN\n",
    "import numpy as np\n",
    "# import cv2"
   ]
  },
  {
   "cell_type": "code",
   "execution_count": 3,
   "metadata": {
    "collapsed": false
   },
   "outputs": [
    {
     "name": "stdout",
     "output_type": "stream",
     "text": [
      "[X] downloading data...\n"
     ]
    }
   ],
   "source": [
    "# grab the MNIST dataset (if this is the first time you are running\n",
    "# this script, this make take a minute -- the 55mb MNIST digit dataset\n",
    "# will be downloaded)\n",
    "print \"[X] downloading data...\"\n",
    "dataset = datasets.fetch_mldata(\"MNIST Original\")"
   ]
  },
  {
   "cell_type": "code",
   "execution_count": 4,
   "metadata": {
    "collapsed": true
   },
   "outputs": [],
   "source": [
    "# scale the data to the range [0, 1] and then construct the training\n",
    "# and testing splits\n",
    "trainX, testX, trainY, testY = train_test_split(dataset.data / 255.0, dataset.target.astype(\"int0\"), test_size = 0.33)"
   ]
  },
  {
   "cell_type": "code",
   "execution_count": 5,
   "metadata": {
    "collapsed": false
   },
   "outputs": [
    {
     "name": "stdout",
     "output_type": "stream",
     "text": [
      "[DBN] fitting X.shape=(46900L, 784L)\n",
      "[DBN] layers [784L, 300, 10]\n",
      "[DBN] Fine-tune..."
     ]
    },
    {
     "name": "stderr",
     "output_type": "stream",
     "text": [
      "100%\n"
     ]
    },
    {
     "name": "stdout",
     "output_type": "stream",
     "text": [
      "\n",
      "Epoch 1:"
     ]
    },
    {
     "name": "stderr",
     "output_type": "stream",
     "text": [
      "100%\n"
     ]
    },
    {
     "name": "stdout",
     "output_type": "stream",
     "text": [
      "\n",
      "  loss 0.287412582657\n",
      "  err  0.0844219603825\n",
      "  (0:00:08)\n",
      "Epoch 2:"
     ]
    },
    {
     "name": "stderr",
     "output_type": "stream",
     "text": [
      "100%\n"
     ]
    },
    {
     "name": "stdout",
     "output_type": "stream",
     "text": [
      "\n",
      "  loss 0.171080136114\n",
      "  err  0.0479422814208\n",
      "  (0:00:09)\n",
      "Epoch 3:"
     ]
    },
    {
     "name": "stderr",
     "output_type": "stream",
     "text": [
      "100%\n"
     ]
    },
    {
     "name": "stdout",
     "output_type": "stream",
     "text": [
      "\n",
      "  loss 0.133995428521\n",
      "  err  0.0387636612022\n",
      "  (0:00:07)\n",
      "Epoch 4:"
     ]
    },
    {
     "name": "stderr",
     "output_type": "stream",
     "text": [
      "100%\n"
     ]
    },
    {
     "name": "stdout",
     "output_type": "stream",
     "text": [
      "\n",
      "  loss 0.0921132963555\n",
      "  err  0.0271089480874\n",
      "  (0:00:08)\n",
      "Epoch 5:"
     ]
    },
    {
     "name": "stderr",
     "output_type": "stream",
     "text": [
      "100%\n"
     ]
    },
    {
     "name": "stdout",
     "output_type": "stream",
     "text": [
      "\n",
      "  loss 0.072727775698\n",
      "  err  0.0221567622951\n",
      "  (0:00:09)\n",
      "Epoch 6:"
     ]
    },
    {
     "name": "stderr",
     "output_type": "stream",
     "text": [
      "100%\n"
     ]
    },
    {
     "name": "stdout",
     "output_type": "stream",
     "text": [
      "\n",
      "  loss 0.0472647035903\n",
      "  err  0.0141094603825\n",
      "  (0:00:10)\n",
      "Epoch 7:"
     ]
    },
    {
     "name": "stderr",
     "output_type": "stream",
     "text": [
      "100%\n"
     ]
    },
    {
     "name": "stdout",
     "output_type": "stream",
     "text": [
      "\n",
      "  loss 0.0355773321299\n",
      "  err  0.0109076161202\n",
      "  (0:00:10)\n",
      "Epoch 8:"
     ]
    },
    {
     "name": "stderr",
     "output_type": "stream",
     "text": [
      "100%\n"
     ]
    },
    {
     "name": "stdout",
     "output_type": "stream",
     "text": [
      "\n",
      "  loss 0.0268565429985\n",
      "  err  0.00804730191257\n",
      "  (0:00:09)\n",
      "Epoch 9:"
     ]
    },
    {
     "name": "stderr",
     "output_type": "stream",
     "text": [
      "100%\n"
     ]
    },
    {
     "name": "stdout",
     "output_type": "stream",
     "text": [
      "\n",
      "  loss 0.020162546435\n",
      "  err  0.00559255464481\n",
      "  (0:00:09)\n",
      "Epoch 10:\n",
      "  loss 0.0169781788539\n",
      "  err  0.00467469262295\n",
      "  (0:00:09)\n"
     ]
    }
   ],
   "source": [
    "# train the Deep Belief Network with 784 input units (the flattened,\n",
    "# 28x28 grayscale image), 300 hidden units, 10 output units (one for\n",
    "# each possible output classification, which are the digits 1-10)\n",
    "dbn = DBN(\n",
    "\t[trainX.shape[1], 300, 10],\n",
    "\tlearn_rates = 0.3,\n",
    "\tlearn_rate_decays = 0.9,\n",
    "\tepochs = 10,\n",
    "\tverbose = 1)\n",
    "dbn.fit(trainX, trainY)"
   ]
  },
  {
   "cell_type": "code",
   "execution_count": 6,
   "metadata": {
    "collapsed": false
   },
   "outputs": [
    {
     "name": "stdout",
     "output_type": "stream",
     "text": [
      "             precision    recall  f1-score   support\n",
      "\n",
      "          0       0.99      0.98      0.98      2287\n",
      "          1       0.99      0.99      0.99      2568\n",
      "          2       0.98      0.97      0.98      2292\n",
      "          3       0.98      0.97      0.97      2308\n",
      "          4       0.98      0.98      0.98      2348\n",
      "          5       0.97      0.98      0.97      1990\n",
      "          6       0.97      0.99      0.98      2244\n",
      "          7       0.98      0.98      0.98      2446\n",
      "          8       0.96      0.98      0.97      2323\n",
      "          9       0.98      0.95      0.96      2294\n",
      "\n",
      "avg / total       0.98      0.98      0.98     23100\n",
      "\n"
     ]
    }
   ],
   "source": [
    "# compute the predictions for the test data and show a classification\n",
    "# report\n",
    "preds = dbn.predict(testX)\n",
    "print classification_report(testY, preds)"
   ]
  },
  {
   "cell_type": "code",
   "execution_count": null,
   "metadata": {
    "collapsed": true
   },
   "outputs": [],
   "source": []
  }
 ],
 "metadata": {
  "kernelspec": {
   "display_name": "Python 2",
   "language": "python",
   "name": "python2"
  },
  "language_info": {
   "codemirror_mode": {
    "name": "ipython",
    "version": 2
   },
   "file_extension": ".py",
   "mimetype": "text/x-python",
   "name": "python",
   "nbconvert_exporter": "python",
   "pygments_lexer": "ipython2",
   "version": "2.7.8"
  }
 },
 "nbformat": 4,
 "nbformat_minor": 0
}

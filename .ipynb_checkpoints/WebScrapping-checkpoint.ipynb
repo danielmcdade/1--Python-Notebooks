{
 "cells": [
  {
   "cell_type": "code",
   "execution_count": null,
   "metadata": {
    "collapsed": true
   },
   "outputs": [],
   "source": [
    "from selenium import webdriver\n",
    "from selenium.webdriver.common.keys import Keys\n",
    "from selenium.common.exceptions import NoSuchElementException\n",
    "from bs4 import BeautifulSoup\n",
    "from time import strftime, localtime\n",
    "import traceback\n",
    "from time import sleep"
   ]
  },
  {
   "cell_type": "code",
   "execution_count": null,
   "metadata": {
    "collapsed": true
   },
   "outputs": [],
   "source": [
    "def run_firefox():\n",
    "    \"\"\"\n",
    "    Start the FireFox web browser, begin navigating around different pages, login to InsightSquared.\n",
    "    NOTE NEED TO BE LOGGED INTO INSIGHT SQUARED AS MARKIT FOR THIS TO WORK!!!!!!!\n",
    "    \n",
    "    Returns\n",
    "    -------\n",
    "    browser: selenium webdriver browser object logged into insightsquared\n",
    "    \"\"\"\n",
    "    browser = webdriver.Firefox()\n",
    "    browser.implicitly_wait(1)\n",
    "    sleep(3)\n",
    "    # navigate to bing.com to make sure browers is working.\n",
    "    # Bing is better than google because google is smart enough to know this is a python bot and makes it harder\n",
    "    # but bing either doesnt know or doesnt care\n",
    "    browser.get('http://www.bing.com')\n",
    "    sleep(3)\n",
    "    # Set the zoom to and browser size to 67% so everything fits in the page correctly. \n",
    "    # This is dumb but VERY IMPORTANT. If page doesnt fit in browser window, script cant find elements and fails\n",
    "    browser.set_window_size(1000, 800)\n",
    "    for i in range(3):\n",
    "        browser.find_element_by_tag_name(\"body\").send_keys(Keys.CONTROL, Keys.SUBTRACT)\n",
    "        browser.find_element_by_tag_name(\"body\").send_keys(Keys.COMMAND, Keys.SUBTRACT)\n",
    "        browser.find_element_by_tag_name(\"body\").send_keys(Keys.COMMAND, Keys.SUBTRACT)\n",
    "        browser.find_element_by_tag_name(\"body\").send_keys(Keys.COMMAND, Keys.SUBTRACT)\n",
    "    sleep(3)\n",
    "\n",
    "    # find email, password, and login button elements\n",
    "    email = browser.find_element_by_id('id__email')\n",
    "    password = browser.find_element_by_id('id__password')\n",
    "    login_button = browser.find_element_by_class_name('login_button')\n",
    "\n",
    "    login_button.click()\n",
    "\n",
    "    sleep(2)  # Need to sleep because python runs faster than the Goals Page can handle\n",
    "    return browser"
   ]
  },
  {
   "cell_type": "code",
   "execution_count": null,
   "metadata": {
    "collapsed": true
   },
   "outputs": [],
   "source": [
    "def run_chrome():\n",
    "    \"\"\"\n",
    "    Start the FireFox web browser, begin navigating around different pages, login to InsightSquared.\n",
    "    NOTE NEED TO BE LOGGED INTO INSIGHT SQUARED AS MARKIT FOR THIS TO WORK!!!!!!!\n",
    "    \n",
    "    Returns\n",
    "    -------\n",
    "    browser: selenium webdriver browser object logged into insightsquared\n",
    "    \"\"\"\n",
    "    chrome_driver_path = 'C:\\Users\\dmcdade\\Documents\\python packages\\chromedriver_win32\\chromedriver.exe'\n",
    "    sys.path.append(chrome_driver_path)\n",
    "    browser = webdriver.Chrome(executable_path=chrome_driver_path)  # Optional argument, if not specified will search path.\n",
    "    sleep(3)\n",
    "    # navigate to bing.com to make sure browers is working.\n",
    "    # Bing is better than google because google is smart enough to know this is a python bot and makes it harder\n",
    "    # but bing either doesnt know or doesnt care\n",
    "    browser.get('http://www.bing.com')\n",
    "    sleep(3)\n",
    "    # navigate to the insightsquared login page\n",
    "\n",
    "    # Set the zoom to and browser size to 67% so everything fits in the page correctly. \n",
    "    # This is dumb but VERY IMPORTANT. If page doesnt fit in browser window, script cant find elements and fails\n",
    "    browser.set_window_size(1000, 800)\n",
    "    for i in range(3):\n",
    "        browser.find_element_by_tag_name(\"body\").send_keys(Keys.CONTROL, Keys.SUBTRACT)\n",
    "        browser.find_element_by_tag_name(\"body\").send_keys(Keys.COMMAND, Keys.SUBTRACT)\n",
    "        browser.find_element_by_tag_name(\"body\").send_keys(Keys.COMMAND, Keys.SUBTRACT)\n",
    "        browser.find_element_by_tag_name(\"body\").send_keys(Keys.COMMAND, Keys.SUBTRACT)\n",
    "    sleep(3)\n",
    "\n",
    "    # find email, password, and login button elements\n",
    "    email = browser.find_element_by_id('id__email')\n",
    "    password = browser.find_element_by_id('id__password')\n",
    "    login_button = browser.find_element_by_xpath('//*[@id=\"login_form\"]/div[2]/button')\n",
    "    # login_button = browser.find_element_by_class_name('login_button')\n",
    "\n",
    "    password.send_keys(Keys.RETURN)\n",
    "\n",
    "    sleep(2)  # Need to sleep because python runs faster than the Goals Page can handle\n",
    "    return browser"
   ]
  },
  {
   "cell_type": "code",
   "execution_count": null,
   "metadata": {
    "collapsed": true
   },
   "outputs": [],
   "source": []
  },
  {
   "cell_type": "code",
   "execution_count": null,
   "metadata": {
    "collapsed": true
   },
   "outputs": [],
   "source": [
    "session = requests.session()\n",
    "# visit the initial login page in the session, \n",
    "# then submit the username/password values \n",
    "# return the unique athentication token to be used for later report reqquests\n",
    "initial_login_page = session.get(self.login_page)\n",
    "login_response = session.post(self.login_page, data=self.__authentication_parameters).text.replace(' ', '')"
   ]
  },
  {
   "cell_type": "code",
   "execution_count": null,
   "metadata": {
    "collapsed": true
   },
   "outputs": [],
   "source": [
    "import mechanize  #pip install mechanize\n",
    "\n",
    "br = mechanize.Browser()\n",
    "br.set_handle_robots(False)\n",
    "br.addheaders = [(\"User-agent\",\"Mozilla/5.0 (X11; U; Linux i686; en-US; rv:1.9.2.13) Gecko/20101206 Ubuntu/10.10 (maverick) Firefox/3.6.13\")]\n",
    "\n",
    "sign_in = br.open(\"http://school.dwit.edu.np/login/index.php\")  #the login url\n",
    "\n",
    "br.select_form(nr = 0) #accessing form by their index. Since we have only one form in this example, nr =0.\n",
    "#br.select_form(name = \"form name\") Alternatively you may use this instead of the above line if your form has name attribute available.\n",
    "\n",
    "br[\"username\"] = \"email/username\" #the key \"username\" is the variable that takes the username/email value\n",
    "\n",
    "br[\"password\"] = \"password\"    #the key \"password\" is the variable that takes the password value\n",
    "\n",
    "logged_in = br.submit()   #submitting the login credentials\n",
    "\n",
    "logincheck = logged_in.read()  #reading the page body that is redirected after successful login\n",
    "\n",
    "print logincheck #printing the body of the redirected url after login\n",
    "\n",
    "#req = br.open(\"http://school.dwit.edu.np/mod/assign/\").read()\n",
    "#accessing other url(s) after login is done this way"
   ]
  },
  {
   "cell_type": "code",
   "execution_count": null,
   "metadata": {
    "collapsed": true
   },
   "outputs": [],
   "source": []
  }
 ],
 "metadata": {
  "kernelspec": {
   "display_name": "Python 2",
   "language": "python",
   "name": "python2"
  },
  "language_info": {
   "codemirror_mode": {
    "name": "ipython",
    "version": 2
   },
   "file_extension": ".py",
   "mimetype": "text/x-python",
   "name": "python",
   "nbconvert_exporter": "python",
   "pygments_lexer": "ipython2",
   "version": "2.7.11"
  }
 },
 "nbformat": 4,
 "nbformat_minor": 0
}

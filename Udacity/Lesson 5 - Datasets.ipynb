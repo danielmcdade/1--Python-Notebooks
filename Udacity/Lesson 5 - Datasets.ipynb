{
 "cells": [
  {
   "cell_type": "code",
   "execution_count": 2,
   "metadata": {
    "collapsed": true
   },
   "outputs": [],
   "source": [
    "import pandas as pd\n",
    "pd.set_option('display.max_rows', 500)\n",
    "pd.set_option('display.max_columns', 500)\n",
    "import numpy as np\n",
    "import matplotlib as plt\n",
    "%matplotlib inline\n",
    "import os, sys"
   ]
  },
  {
   "cell_type": "code",
   "execution_count": 76,
   "metadata": {
    "collapsed": false
   },
   "outputs": [],
   "source": [
    "import pickle\n",
    "os.chdir('D:\\\\GitHub\\\\ud120-projects\\\\final_project')\n",
    "enron_data_file = pickle.load(open(\"../final_project/final_project_dataset.pkl\", \"r\"))"
   ]
  },
  {
   "cell_type": "code",
   "execution_count": 21,
   "metadata": {
    "collapsed": false
   },
   "outputs": [
    {
     "name": "stdout",
     "output_type": "stream",
     "text": [
      " Number of people: 146\n",
      "Number of features: [21]\n",
      "Number of POIs: 18\n"
     ]
    }
   ],
   "source": [
    "print 'Number of people:', len(enron_data_file)\n",
    "num_features = []\n",
    "pois = 0\n",
    "for name in enron_data_file:\n",
    "    if len(enron_data_file[name]) not in num_features:\n",
    "        num_features.append(len(enron_data_file[name]))\n",
    "    if enron_data_file[name]['poi']:\n",
    "        pois += 1\n",
    "print 'Number of features:', num_features\n",
    "print 'Number of POIs:', pois\n"
   ]
  },
  {
   "cell_type": "code",
   "execution_count": 37,
   "metadata": {
    "collapsed": false
   },
   "outputs": [
    {
     "name": "stdout",
     "output_type": "stream",
     "text": [
      "35\n"
     ]
    }
   ],
   "source": [
    "os.listdir(os.getcwd())\n",
    "with open('poi_names.txt','r') as f:\n",
    "    poi_names = f.readlines()\n",
    "print len(poi_names[2:])"
   ]
  },
  {
   "cell_type": "code",
   "execution_count": 41,
   "metadata": {
    "collapsed": false
   },
   "outputs": [
    {
     "data": {
      "text/plain": [
       "1095040"
      ]
     },
     "execution_count": 41,
     "metadata": {},
     "output_type": "execute_result"
    }
   ],
   "source": [
    "enron_data_file[\"PRENTICE JAMES\"]['total_stock_value']"
   ]
  },
  {
   "cell_type": "code",
   "execution_count": 51,
   "metadata": {
    "collapsed": false
   },
   "outputs": [
    {
     "data": {
      "text/plain": [
       "11"
      ]
     },
     "execution_count": 51,
     "metadata": {},
     "output_type": "execute_result"
    }
   ],
   "source": [
    "enron_data_file[\"COLWELL WESLEY\"]['from_this_person_to_poi']"
   ]
  },
  {
   "cell_type": "code",
   "execution_count": 58,
   "metadata": {
    "collapsed": false
   },
   "outputs": [
    {
     "data": {
      "text/plain": [
       "19250000"
      ]
     },
     "execution_count": 58,
     "metadata": {},
     "output_type": "execute_result"
    }
   ],
   "source": [
    "enron_data_file[\"SKILLING JEFFREY K\"]['exercised_stock_options']"
   ]
  },
  {
   "cell_type": "code",
   "execution_count": 77,
   "metadata": {
    "collapsed": false
   },
   "outputs": [],
   "source": [
    "enron_data = pd.DataFrame().from_dict(enron_data_file).T"
   ]
  },
  {
   "cell_type": "code",
   "execution_count": 79,
   "metadata": {
    "collapsed": false
   },
   "outputs": [],
   "source": [
    "enron_data = enron_data.applymap(lambda x: np.nan if x == 'NaN' else x)"
   ]
  },
  {
   "cell_type": "code",
   "execution_count": 81,
   "metadata": {
    "collapsed": false
   },
   "outputs": [
    {
     "data": {
      "text/plain": [
       "bonus                         82\n",
       "deferral_payments             39\n",
       "deferred_income               49\n",
       "director_fees                 17\n",
       "email_address                111\n",
       "exercised_stock_options      102\n",
       "expenses                      95\n",
       "from_messages                 86\n",
       "from_poi_to_this_person       86\n",
       "from_this_person_to_poi       86\n",
       "loan_advances                  4\n",
       "long_term_incentive           66\n",
       "other                         93\n",
       "poi                          146\n",
       "restricted_stock             110\n",
       "restricted_stock_deferred     18\n",
       "salary                        95\n",
       "shared_receipt_with_poi       86\n",
       "to_messages                   86\n",
       "total_payments               125\n",
       "total_stock_value            126\n",
       "dtype: int64"
      ]
     },
     "execution_count": 81,
     "metadata": {},
     "output_type": "execute_result"
    }
   ],
   "source": [
    "enron_data.count()"
   ]
  },
  {
   "cell_type": "code",
   "execution_count": 82,
   "metadata": {
    "collapsed": false
   },
   "outputs": [
    {
     "data": {
      "text/plain": [
       "21"
      ]
     },
     "execution_count": 82,
     "metadata": {},
     "output_type": "execute_result"
    }
   ],
   "source": [
    "146-125"
   ]
  },
  {
   "cell_type": "code",
   "execution_count": 85,
   "metadata": {
    "collapsed": false
   },
   "outputs": [
    {
     "data": {
      "text/plain": [
       "0.14383561643835616"
      ]
     },
     "execution_count": 85,
     "metadata": {},
     "output_type": "execute_result"
    }
   ],
   "source": [
    "float(21.0/146.0)"
   ]
  },
  {
   "cell_type": "code",
   "execution_count": 86,
   "metadata": {
    "collapsed": false
   },
   "outputs": [
    {
     "data": {
      "text/plain": [
       "bonus                        16\n",
       "deferral_payments             5\n",
       "deferred_income              11\n",
       "director_fees                 0\n",
       "email_address                18\n",
       "exercised_stock_options      12\n",
       "expenses                     18\n",
       "from_messages                14\n",
       "from_poi_to_this_person      14\n",
       "from_this_person_to_poi      14\n",
       "loan_advances                 1\n",
       "long_term_incentive          12\n",
       "other                        18\n",
       "poi                          18\n",
       "restricted_stock             17\n",
       "restricted_stock_deferred     0\n",
       "salary                       17\n",
       "shared_receipt_with_poi      14\n",
       "to_messages                  14\n",
       "total_payments               18\n",
       "total_stock_value            18\n",
       "dtype: int64"
      ]
     },
     "execution_count": 86,
     "metadata": {},
     "output_type": "execute_result"
    }
   ],
   "source": [
    "enron_data[enron_data['poi'] == True].count()"
   ]
  },
  {
   "cell_type": "code",
   "execution_count": 88,
   "metadata": {
    "collapsed": false
   },
   "outputs": [
    {
     "data": {
      "text/plain": [
       "0.35714285714285715"
      ]
     },
     "execution_count": 88,
     "metadata": {},
     "output_type": "execute_result"
    }
   ],
   "source": [
    "float(10.0/28.0)"
   ]
  },
  {
   "cell_type": "code",
   "execution_count": null,
   "metadata": {
    "collapsed": true
   },
   "outputs": [],
   "source": []
  }
 ],
 "metadata": {
  "kernelspec": {
   "display_name": "Python 2",
   "language": "python",
   "name": "python2"
  },
  "language_info": {
   "codemirror_mode": {
    "name": "ipython",
    "version": 2
   },
   "file_extension": ".py",
   "mimetype": "text/x-python",
   "name": "python",
   "nbconvert_exporter": "python",
   "pygments_lexer": "ipython2",
   "version": "2.7.8"
  }
 },
 "nbformat": 4,
 "nbformat_minor": 0
}

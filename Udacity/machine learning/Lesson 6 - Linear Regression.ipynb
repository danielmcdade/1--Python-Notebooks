{
 "cells": [
  {
   "cell_type": "code",
   "execution_count": 1,
   "metadata": {
    "collapsed": true
   },
   "outputs": [],
   "source": [
    "import pandas as pd\n",
    "pd.set_option('display.max_rows', 500)\n",
    "pd.set_option('display.max_columns', 500)\n",
    "import numpy as np\n",
    "import matplotlib as plt\n",
    "%matplotlib inline\n",
    "import os, sys"
   ]
  },
  {
   "cell_type": "code",
   "execution_count": 2,
   "metadata": {
    "collapsed": true
   },
   "outputs": [],
   "source": [
    "import pickle\n",
    "os.chdir('D:\\\\GitHub\\\\ud120-projects\\\\final_project')\n",
    "enron_data_file = pickle.load(open(\"../final_project/final_project_dataset.pkl\", \"r\"))"
   ]
  },
  {
   "cell_type": "code",
   "execution_count": 3,
   "metadata": {
    "collapsed": false
   },
   "outputs": [
    {
     "data": {
      "text/html": [
       "<div style=\"max-height:1000px;max-width:1500px;overflow:auto;\">\n",
       "<table border=\"1\" class=\"dataframe\">\n",
       "  <thead>\n",
       "    <tr style=\"text-align: right;\">\n",
       "      <th></th>\n",
       "      <th>bonus</th>\n",
       "      <th>deferral_payments</th>\n",
       "      <th>deferred_income</th>\n",
       "      <th>director_fees</th>\n",
       "      <th>email_address</th>\n",
       "      <th>exercised_stock_options</th>\n",
       "      <th>expenses</th>\n",
       "      <th>from_messages</th>\n",
       "      <th>from_poi_to_this_person</th>\n",
       "      <th>from_this_person_to_poi</th>\n",
       "      <th>loan_advances</th>\n",
       "      <th>long_term_incentive</th>\n",
       "      <th>other</th>\n",
       "      <th>poi</th>\n",
       "      <th>restricted_stock</th>\n",
       "      <th>restricted_stock_deferred</th>\n",
       "      <th>salary</th>\n",
       "      <th>shared_receipt_with_poi</th>\n",
       "      <th>to_messages</th>\n",
       "      <th>total_payments</th>\n",
       "      <th>total_stock_value</th>\n",
       "    </tr>\n",
       "  </thead>\n",
       "  <tbody>\n",
       "    <tr>\n",
       "      <th>ALLEN PHILLIP K</th>\n",
       "      <td>4175000</td>\n",
       "      <td>2869717</td>\n",
       "      <td>-3081055</td>\n",
       "      <td>NaN</td>\n",
       "      <td>phillip.allen@enron.com</td>\n",
       "      <td>1729541</td>\n",
       "      <td>13868</td>\n",
       "      <td>2195</td>\n",
       "      <td>47</td>\n",
       "      <td>65</td>\n",
       "      <td>NaN</td>\n",
       "      <td>304805</td>\n",
       "      <td>152</td>\n",
       "      <td>False</td>\n",
       "      <td>126027</td>\n",
       "      <td>-126027</td>\n",
       "      <td>201955</td>\n",
       "      <td>1407</td>\n",
       "      <td>2902</td>\n",
       "      <td>4484442</td>\n",
       "      <td>1729541</td>\n",
       "    </tr>\n",
       "    <tr>\n",
       "      <th>BADUM JAMES P</th>\n",
       "      <td>NaN</td>\n",
       "      <td>178980</td>\n",
       "      <td>NaN</td>\n",
       "      <td>NaN</td>\n",
       "      <td>NaN</td>\n",
       "      <td>257817</td>\n",
       "      <td>3486</td>\n",
       "      <td>NaN</td>\n",
       "      <td>NaN</td>\n",
       "      <td>NaN</td>\n",
       "      <td>NaN</td>\n",
       "      <td>NaN</td>\n",
       "      <td>NaN</td>\n",
       "      <td>False</td>\n",
       "      <td>NaN</td>\n",
       "      <td>NaN</td>\n",
       "      <td>NaN</td>\n",
       "      <td>NaN</td>\n",
       "      <td>NaN</td>\n",
       "      <td>182466</td>\n",
       "      <td>257817</td>\n",
       "    </tr>\n",
       "    <tr>\n",
       "      <th>BANNANTINE JAMES M</th>\n",
       "      <td>NaN</td>\n",
       "      <td>NaN</td>\n",
       "      <td>-5104</td>\n",
       "      <td>NaN</td>\n",
       "      <td>james.bannantine@enron.com</td>\n",
       "      <td>4046157</td>\n",
       "      <td>56301</td>\n",
       "      <td>29</td>\n",
       "      <td>39</td>\n",
       "      <td>0</td>\n",
       "      <td>NaN</td>\n",
       "      <td>NaN</td>\n",
       "      <td>864523</td>\n",
       "      <td>False</td>\n",
       "      <td>1757552</td>\n",
       "      <td>-560222</td>\n",
       "      <td>477</td>\n",
       "      <td>465</td>\n",
       "      <td>566</td>\n",
       "      <td>916197</td>\n",
       "      <td>5243487</td>\n",
       "    </tr>\n",
       "    <tr>\n",
       "      <th>BAXTER JOHN C</th>\n",
       "      <td>1200000</td>\n",
       "      <td>1295738</td>\n",
       "      <td>-1386055</td>\n",
       "      <td>NaN</td>\n",
       "      <td>NaN</td>\n",
       "      <td>6680544</td>\n",
       "      <td>11200</td>\n",
       "      <td>NaN</td>\n",
       "      <td>NaN</td>\n",
       "      <td>NaN</td>\n",
       "      <td>NaN</td>\n",
       "      <td>1586055</td>\n",
       "      <td>2660303</td>\n",
       "      <td>False</td>\n",
       "      <td>3942714</td>\n",
       "      <td>NaN</td>\n",
       "      <td>267102</td>\n",
       "      <td>NaN</td>\n",
       "      <td>NaN</td>\n",
       "      <td>5634343</td>\n",
       "      <td>10623258</td>\n",
       "    </tr>\n",
       "    <tr>\n",
       "      <th>BAY FRANKLIN R</th>\n",
       "      <td>400000</td>\n",
       "      <td>260455</td>\n",
       "      <td>-201641</td>\n",
       "      <td>NaN</td>\n",
       "      <td>frank.bay@enron.com</td>\n",
       "      <td>NaN</td>\n",
       "      <td>129142</td>\n",
       "      <td>NaN</td>\n",
       "      <td>NaN</td>\n",
       "      <td>NaN</td>\n",
       "      <td>NaN</td>\n",
       "      <td>NaN</td>\n",
       "      <td>69</td>\n",
       "      <td>False</td>\n",
       "      <td>145796</td>\n",
       "      <td>-82782</td>\n",
       "      <td>239671</td>\n",
       "      <td>NaN</td>\n",
       "      <td>NaN</td>\n",
       "      <td>827696</td>\n",
       "      <td>63014</td>\n",
       "    </tr>\n",
       "  </tbody>\n",
       "</table>\n",
       "</div>"
      ],
      "text/plain": [
       "                      bonus  deferral_payments  deferred_income  \\\n",
       "ALLEN PHILLIP K     4175000            2869717         -3081055   \n",
       "BADUM JAMES P           NaN             178980              NaN   \n",
       "BANNANTINE JAMES M      NaN                NaN            -5104   \n",
       "BAXTER JOHN C       1200000            1295738         -1386055   \n",
       "BAY FRANKLIN R       400000             260455          -201641   \n",
       "\n",
       "                    director_fees               email_address  \\\n",
       "ALLEN PHILLIP K               NaN     phillip.allen@enron.com   \n",
       "BADUM JAMES P                 NaN                         NaN   \n",
       "BANNANTINE JAMES M            NaN  james.bannantine@enron.com   \n",
       "BAXTER JOHN C                 NaN                         NaN   \n",
       "BAY FRANKLIN R                NaN         frank.bay@enron.com   \n",
       "\n",
       "                    exercised_stock_options  expenses  from_messages  \\\n",
       "ALLEN PHILLIP K                     1729541     13868           2195   \n",
       "BADUM JAMES P                        257817      3486            NaN   \n",
       "BANNANTINE JAMES M                  4046157     56301             29   \n",
       "BAXTER JOHN C                       6680544     11200            NaN   \n",
       "BAY FRANKLIN R                          NaN    129142            NaN   \n",
       "\n",
       "                    from_poi_to_this_person  from_this_person_to_poi  \\\n",
       "ALLEN PHILLIP K                          47                       65   \n",
       "BADUM JAMES P                           NaN                      NaN   \n",
       "BANNANTINE JAMES M                       39                        0   \n",
       "BAXTER JOHN C                           NaN                      NaN   \n",
       "BAY FRANKLIN R                          NaN                      NaN   \n",
       "\n",
       "                    loan_advances  long_term_incentive    other    poi  \\\n",
       "ALLEN PHILLIP K               NaN               304805      152  False   \n",
       "BADUM JAMES P                 NaN                  NaN      NaN  False   \n",
       "BANNANTINE JAMES M            NaN                  NaN   864523  False   \n",
       "BAXTER JOHN C                 NaN              1586055  2660303  False   \n",
       "BAY FRANKLIN R                NaN                  NaN       69  False   \n",
       "\n",
       "                    restricted_stock  restricted_stock_deferred  salary  \\\n",
       "ALLEN PHILLIP K               126027                    -126027  201955   \n",
       "BADUM JAMES P                    NaN                        NaN     NaN   \n",
       "BANNANTINE JAMES M           1757552                    -560222     477   \n",
       "BAXTER JOHN C                3942714                        NaN  267102   \n",
       "BAY FRANKLIN R                145796                     -82782  239671   \n",
       "\n",
       "                    shared_receipt_with_poi  to_messages  total_payments  \\\n",
       "ALLEN PHILLIP K                        1407         2902         4484442   \n",
       "BADUM JAMES P                           NaN          NaN          182466   \n",
       "BANNANTINE JAMES M                      465          566          916197   \n",
       "BAXTER JOHN C                           NaN          NaN         5634343   \n",
       "BAY FRANKLIN R                          NaN          NaN          827696   \n",
       "\n",
       "                    total_stock_value  \n",
       "ALLEN PHILLIP K               1729541  \n",
       "BADUM JAMES P                  257817  \n",
       "BANNANTINE JAMES M            5243487  \n",
       "BAXTER JOHN C                10623258  \n",
       "BAY FRANKLIN R                  63014  "
      ]
     },
     "execution_count": 3,
     "metadata": {},
     "output_type": "execute_result"
    }
   ],
   "source": [
    "enron_data = pd.DataFrame().from_dict(enron_data_file).T\n",
    "enron_data = enron_data.applymap(lambda x: np.nan if x == 'NaN' else x)\n",
    "enron_data.head()"
   ]
  },
  {
   "cell_type": "code",
   "execution_count": 7,
   "metadata": {
    "collapsed": false
   },
   "outputs": [
    {
     "name": "stdout",
     "output_type": "stream",
     "text": [
      "0.99342458106\n",
      "0.995011978907\n"
     ]
    }
   ],
   "source": [
    "print enron_data['bonus'].corr(enron_data['salary'])\n",
    "print enron_data['bonus'].corr(enron_data['long_term_incentive'])"
   ]
  },
  {
   "cell_type": "code",
   "execution_count": 57,
   "metadata": {
    "collapsed": false
   },
   "outputs": [],
   "source": [
    "from sklearn.linear_model import LinearRegression\n",
    "from sklearn.cross_validation import train_test_split\n",
    "X = enron_data['long_term_incentive'].fillna(0).values\n",
    "y = [[b] for b in enron_data['bonus'].fillna(0).values]\n",
    "features_train, features_test, labels_train, labels_test = train_test_split(X,y )"
   ]
  },
  {
   "cell_type": "code",
   "execution_count": 58,
   "metadata": {
    "collapsed": false
   },
   "outputs": [
    {
     "data": {
      "text/plain": [
       "109"
      ]
     },
     "execution_count": 58,
     "metadata": {},
     "output_type": "execute_result"
    }
   ],
   "source": [
    "len(features_train)"
   ]
  },
  {
   "cell_type": "code",
   "execution_count": 60,
   "metadata": {
    "collapsed": false
   },
   "outputs": [
    {
     "data": {
      "text/plain": [
       "LinearRegression(copy_X=True, fit_intercept=True, n_jobs=1, normalize=False)"
      ]
     },
     "execution_count": 60,
     "metadata": {},
     "output_type": "execute_result"
    }
   ],
   "source": [
    "lr = LinearRegression()\n",
    "lt = [[y] for y in labels_train]\n",
    "ft = [[x] for x in features_train]\n",
    "lr.fit(ft, labels_train)\n",
    "#pred = lr.predict(features_test)"
   ]
  },
  {
   "cell_type": "code",
   "execution_count": 67,
   "metadata": {
    "collapsed": false
   },
   "outputs": [
    {
     "data": {
      "text/plain": [
       "468739.2605548189"
      ]
     },
     "execution_count": 67,
     "metadata": {},
     "output_type": "execute_result"
    }
   ],
   "source": [
    "lr.score()"
   ]
  },
  {
   "cell_type": "code",
   "execution_count": null,
   "metadata": {
    "collapsed": true
   },
   "outputs": [],
   "source": []
  }
 ],
 "metadata": {
  "kernelspec": {
   "display_name": "Python 2",
   "language": "python",
   "name": "python2"
  },
  "language_info": {
   "codemirror_mode": {
    "name": "ipython",
    "version": 2
   },
   "file_extension": ".py",
   "mimetype": "text/x-python",
   "name": "python",
   "nbconvert_exporter": "python",
   "pygments_lexer": "ipython2",
   "version": "2.7.8"
  }
 },
 "nbformat": 4,
 "nbformat_minor": 0
}

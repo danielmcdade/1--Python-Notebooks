{
 "cells": [
  {
   "cell_type": "markdown",
   "metadata": {},
   "source": [
    "## Problem: Maximize Profit from these members. \n",
    "### Where to go from here? - questions? observations? directions?\n",
    "#### • emails.tsv: a tab-separated file of all emails sent to a subset of our members from the JobsRadar brand in September\n",
    "#### • email_responses.tsv: a tab-separated file of open, click, and unsubscribe events that resulted from those emails\n",
    "#### • members.tsv: a tab-separated file of information about the members to whom those emails were sent\n",
    "#### • *.png: sample images of each of the email variants sent in this set (as identified by either the \"variant\" or \"campaign\" column in emails.tsv)\n",
    "#### • *.eml: Outlook export files of same\n",
    "   "
   ]
  },
  {
   "cell_type": "markdown",
   "metadata": {},
   "source": [
    " "
   ]
  },
  {
   "cell_type": "code",
   "execution_count": 1,
   "metadata": {
    "collapsed": false
   },
   "outputs": [],
   "source": [
    "# Import some useful python modules\n",
    "import matplotlib as plt\n",
    "import seaborn as sns\n",
    "%matplotlib inline\n",
    "\n",
    "import numpy as np\n",
    "import pandas as pd\n",
    "import os\n",
    "import datetime"
   ]
  },
  {
   "cell_type": "code",
   "execution_count": 2,
   "metadata": {
    "collapsed": false
   },
   "outputs": [
    {
     "data": {
      "text/plain": [
       "['account_login_info_s2_v1.eml',\n",
       " 'account_login_info_s2_v1.png',\n",
       " 'emails.tsv',\n",
       " 'email_responses.tsv',\n",
       " 'fixed_keyword_cloud_s1_v1.eml',\n",
       " 'fixed_keyword_cloud_s1_v1.png',\n",
       " 'forgot_password.eml',\n",
       " 'forgot_password.png',\n",
       " 'job_alert_s1_v1.png',\n",
       " 'members.tsv']"
      ]
     },
     "execution_count": 2,
     "metadata": {},
     "output_type": "execute_result"
    }
   ],
   "source": [
    "# change working directory into folder with data, view what is available\n",
    "os.chdir(os.getcwd() + '\\data')\n",
    "os.listdir(os.getcwd())"
   ]
  },
  {
   "cell_type": "code",
   "execution_count": 3,
   "metadata": {
    "collapsed": false
   },
   "outputs": [],
   "source": [
    "# Parse data into Pandas DataFrames\n",
    "emails = pd.read_table('emails.tsv', header=None)\n",
    "emails.columns = ['email_id','timestamp','subject','variant/campagin','member_id']\n",
    "email_responses = pd.read_table('email_responses.tsv', header=0)"
   ]
  },
  {
   "cell_type": "code",
   "execution_count": 4,
   "metadata": {
    "collapsed": false
   },
   "outputs": [
    {
     "data": {
      "text/html": [
       "<div style=\"max-height:1000px;max-width:1500px;overflow:auto;\">\n",
       "<table border=\"1\" class=\"dataframe\">\n",
       "  <thead>\n",
       "    <tr style=\"text-align: right;\">\n",
       "      <th></th>\n",
       "      <th>email_id</th>\n",
       "      <th>timestamp</th>\n",
       "      <th>subject</th>\n",
       "      <th>type</th>\n",
       "      <th>?</th>\n",
       "    </tr>\n",
       "  </thead>\n",
       "  <tbody>\n",
       "    <tr>\n",
       "      <th>0</th>\n",
       "      <td>205569994</td>\n",
       "      <td>2012-09-01 00:00:07</td>\n",
       "      <td>Transactional JR Welcome Email</td>\n",
       "      <td>account_login_info_s2_v1</td>\n",
       "      <td>14802252</td>\n",
       "    </tr>\n",
       "    <tr>\n",
       "      <th>1</th>\n",
       "      <td>205569995</td>\n",
       "      <td>2012-09-01 00:00:07</td>\n",
       "      <td>Transactional JR Welcome Email</td>\n",
       "      <td>account_login_info_s2_v1</td>\n",
       "      <td>14802253</td>\n",
       "    </tr>\n",
       "    <tr>\n",
       "      <th>2</th>\n",
       "      <td>205569997</td>\n",
       "      <td>2012-09-01 00:00:07</td>\n",
       "      <td>Transactional JR Welcome Email</td>\n",
       "      <td>account_login_info_s2_v1</td>\n",
       "      <td>14802255</td>\n",
       "    </tr>\n",
       "    <tr>\n",
       "      <th>3</th>\n",
       "      <td>205569998</td>\n",
       "      <td>2012-09-01 00:00:07</td>\n",
       "      <td>Transactional JR Welcome Email</td>\n",
       "      <td>account_login_info_s2_v1</td>\n",
       "      <td>14802256</td>\n",
       "    </tr>\n",
       "    <tr>\n",
       "      <th>4</th>\n",
       "      <td>205570000</td>\n",
       "      <td>2012-09-01 00:00:07</td>\n",
       "      <td>Transactional JR Welcome Email</td>\n",
       "      <td>account_login_info_s2_v1</td>\n",
       "      <td>14802257</td>\n",
       "    </tr>\n",
       "  </tbody>\n",
       "</table>\n",
       "</div>"
      ],
      "text/plain": [
       "    email_id            timestamp                         subject  \\\n",
       "0  205569994  2012-09-01 00:00:07  Transactional JR Welcome Email   \n",
       "1  205569995  2012-09-01 00:00:07  Transactional JR Welcome Email   \n",
       "2  205569997  2012-09-01 00:00:07  Transactional JR Welcome Email   \n",
       "3  205569998  2012-09-01 00:00:07  Transactional JR Welcome Email   \n",
       "4  205570000  2012-09-01 00:00:07  Transactional JR Welcome Email   \n",
       "\n",
       "                       type         ?  \n",
       "0  account_login_info_s2_v1  14802252  \n",
       "1  account_login_info_s2_v1  14802253  \n",
       "2  account_login_info_s2_v1  14802255  \n",
       "3  account_login_info_s2_v1  14802256  \n",
       "4  account_login_info_s2_v1  14802257  "
      ]
     },
     "execution_count": 4,
     "metadata": {},
     "output_type": "execute_result"
    }
   ],
   "source": [
    "emails.head()"
   ]
  },
  {
   "cell_type": "code",
   "execution_count": 29,
   "metadata": {
    "collapsed": false
   },
   "outputs": [],
   "source": [
    "emails['main_type'] = emails['type'].apply(lambda x: x.split(':')[0] if not pd.isnull(x) else np.nan)\n",
    "emails['sub_type'] = emails['type'].apply(lambda x: x.split(':')[1] if not pd.isnull(x) and len(x.split(':')) > 1 else np.nan)"
   ]
  },
  {
   "cell_type": "code",
   "execution_count": 49,
   "metadata": {
    "collapsed": false
   },
   "outputs": [
    {
     "data": {
      "text/html": [
       "<div style=\"max-height:1000px;max-width:1500px;overflow:auto;\">\n",
       "<table border=\"1\" class=\"dataframe\">\n",
       "  <thead>\n",
       "    <tr style=\"text-align: right;\">\n",
       "      <th></th>\n",
       "      <th>email_id</th>\n",
       "      <th>timestamp</th>\n",
       "      <th>subject</th>\n",
       "      <th>type</th>\n",
       "      <th>?</th>\n",
       "      <th>main_type</th>\n",
       "      <th>sub_type</th>\n",
       "    </tr>\n",
       "  </thead>\n",
       "  <tbody>\n",
       "    <tr>\n",
       "      <th>85</th>\n",
       "      <td>205570557</td>\n",
       "      <td>2012-09-01 04:00:04</td>\n",
       "      <td>T plus N</td>\n",
       "      <td>job_alert_s1_v1:tplus5_1opened</td>\n",
       "      <td>14708719</td>\n",
       "      <td>job_alert_s1_v1</td>\n",
       "      <td>tplus5_1opened</td>\n",
       "    </tr>\n",
       "  </tbody>\n",
       "</table>\n",
       "</div>"
      ],
      "text/plain": [
       "     email_id            timestamp   subject                            type  \\\n",
       "85  205570557  2012-09-01 04:00:04  T plus N  job_alert_s1_v1:tplus5_1opened   \n",
       "\n",
       "           ?        main_type        sub_type  \n",
       "85  14708719  job_alert_s1_v1  tplus5_1opened  "
      ]
     },
     "execution_count": 49,
     "metadata": {},
     "output_type": "execute_result"
    }
   ],
   "source": [
    "emails[emails['email_id'] == 205570557]"
   ]
  },
  {
   "cell_type": "code",
   "execution_count": 52,
   "metadata": {
    "collapsed": false
   },
   "outputs": [
    {
     "data": {
      "text/plain": [
       "Transactional Forgot Password Email    121880\n",
       "dtype: int64"
      ]
     },
     "execution_count": 52,
     "metadata": {},
     "output_type": "execute_result"
    }
   ],
   "source": [
    "emails[pd.isnull(emails['type'])].subject.value_counts()"
   ]
  },
  {
   "cell_type": "code",
   "execution_count": 53,
   "metadata": {
    "collapsed": false
   },
   "outputs": [
    {
     "data": {
      "text/plain": [
       "array(['account_login_info_s2_v1', nan, 'job_alert_s1_v1',\n",
       "       'fixed_keyword_cloud_s1_v1', 'birthday_s1_v1_f2',\n",
       "       'birthday_joblist1_s1_v1_f2', '\\\\N'], dtype=object)"
      ]
     },
     "execution_count": 53,
     "metadata": {},
     "output_type": "execute_result"
    }
   ],
   "source": [
    "emails.main_type.unique()"
   ]
  },
  {
   "cell_type": "code",
   "execution_count": 6,
   "metadata": {
    "collapsed": false
   },
   "outputs": [
    {
     "data": {
      "text/html": [
       "<div style=\"max-height:1000px;max-width:1500px;overflow:auto;\">\n",
       "<table border=\"1\" class=\"dataframe\">\n",
       "  <thead>\n",
       "    <tr style=\"text-align: right;\">\n",
       "      <th></th>\n",
       "      <th>email_id</th>\n",
       "      <th>timestamp</th>\n",
       "      <th>action</th>\n",
       "    </tr>\n",
       "  </thead>\n",
       "  <tbody>\n",
       "    <tr>\n",
       "      <th>0</th>\n",
       "      <td>205570123</td>\n",
       "      <td>2012-09-01 00:12:36</td>\n",
       "      <td>open</td>\n",
       "    </tr>\n",
       "    <tr>\n",
       "      <th>1</th>\n",
       "      <td>205570123</td>\n",
       "      <td>2012-09-01 00:12:57</td>\n",
       "      <td>click</td>\n",
       "    </tr>\n",
       "    <tr>\n",
       "      <th>2</th>\n",
       "      <td>205570076</td>\n",
       "      <td>2012-09-01 00:23:49</td>\n",
       "      <td>click</td>\n",
       "    </tr>\n",
       "    <tr>\n",
       "      <th>3</th>\n",
       "      <td>205570320</td>\n",
       "      <td>2012-09-01 00:30:52</td>\n",
       "      <td>open</td>\n",
       "    </tr>\n",
       "    <tr>\n",
       "      <th>4</th>\n",
       "      <td>205570320</td>\n",
       "      <td>2012-09-01 00:31:09</td>\n",
       "      <td>click</td>\n",
       "    </tr>\n",
       "  </tbody>\n",
       "</table>\n",
       "</div>"
      ],
      "text/plain": [
       "    email_id            timestamp action\n",
       "0  205570123  2012-09-01 00:12:36   open\n",
       "1  205570123  2012-09-01 00:12:57  click\n",
       "2  205570076  2012-09-01 00:23:49  click\n",
       "3  205570320  2012-09-01 00:30:52   open\n",
       "4  205570320  2012-09-01 00:31:09  click"
      ]
     },
     "execution_count": 6,
     "metadata": {},
     "output_type": "execute_result"
    }
   ],
   "source": [
    "email_responses.head()"
   ]
  },
  {
   "cell_type": "code",
   "execution_count": 44,
   "metadata": {
    "collapsed": false
   },
   "outputs": [
    {
     "data": {
      "text/plain": [
       "open     1099755\n",
       "click     436201\n",
       "unsub      22653\n",
       "dtype: int64"
      ]
     },
     "execution_count": 44,
     "metadata": {},
     "output_type": "execute_result"
    }
   ],
   "source": [
    "email_responses['action'].value_counts()"
   ]
  },
  {
   "cell_type": "code",
   "execution_count": 34,
   "metadata": {
    "collapsed": false
   },
   "outputs": [],
   "source": [
    "# There are some issues with the members file (varying apparent row lengths, likely due to a separator issue) \n",
    "# so we will read that directly and try to identify where the issues are. \n",
    "# After the data is in a usable form and then parse the data into a dataframe manually\n",
    "members_file = open('members.tsv','r')\n",
    "members_list = []\n",
    "members_list_raw = []\n",
    "for line in members_file.readlines():\n",
    "    members_list_raw.append(line)\n",
    "    members_list.append(line.replace('\\n','').split('\\t'))"
   ]
  },
  {
   "cell_type": "code",
   "execution_count": null,
   "metadata": {
    "collapsed": true
   },
   "outputs": [],
   "source": []
  },
  {
   "cell_type": "code",
   "execution_count": 35,
   "metadata": {
    "collapsed": false,
    "scrolled": true
   },
   "outputs": [
    {
     "name": "stdout",
     "output_type": "stream",
     "text": [
      "11 0\n",
      "12 205009\n",
      "13 1180508\n",
      "14 1407001\n"
     ]
    }
   ],
   "source": [
    "# Find the rows that are having issues\n",
    "max_row_length = 1\n",
    "for i, row in enumerate(members_list):\n",
    "    if len(row) > max_row_length:\n",
    "        max_row_length = len(row)\n",
    "        print len(row), i"
   ]
  },
  {
   "cell_type": "code",
   "execution_count": 36,
   "metadata": {
    "collapsed": false
   },
   "outputs": [
    {
     "name": "stdout",
     "output_type": "stream",
     "text": [
      "['member_id', 'date', 'email_domain', 'first_name', 'city', 'state', 'zip', 'degree_level', 'hs_or_ged_year', 'pcp_score', 'keyword']\n"
     ]
    },
    {
     "data": {
      "text/plain": [
       "'11175037\\t2012-01-16 12:25:10\\tyahoo.com\\tmakke\\\\\\t\\t\\\\N\\t\\\\N\\t60000\\tBachelor\\t2001\\t0.0891283\\tAdmin Assistant Job\\n'"
      ]
     },
     "execution_count": 36,
     "metadata": {},
     "output_type": "execute_result"
    }
   ],
   "source": [
    "print members_list[0]\n",
    "members_list_raw[205009]"
   ]
  },
  {
   "cell_type": "code",
   "execution_count": 37,
   "metadata": {
    "collapsed": false
   },
   "outputs": [],
   "source": [
    "# From investigating the above rows, we can see that the issue stems from additional tabs in the value fields\n",
    "# we therefore need to replace the invalid dditional tab values so the data can be formatted correctly\n",
    "clean_members_list = [member.replace('\\n','').replace('\\\\\\t','').replace('\\N','').split('\\t') \n",
    "                      for member in members_list_raw]\n",
    "members = pd.DataFrame(data=clean_members_list[1:], columns=clean_members_list[0])"
   ]
  },
  {
   "cell_type": "code",
   "execution_count": 38,
   "metadata": {
    "collapsed": false
   },
   "outputs": [
    {
     "data": {
      "text/html": [
       "<div style=\"max-height:1000px;max-width:1500px;overflow:auto;\">\n",
       "<table border=\"1\" class=\"dataframe\">\n",
       "  <thead>\n",
       "    <tr style=\"text-align: right;\">\n",
       "      <th></th>\n",
       "      <th>member_id</th>\n",
       "      <th>date</th>\n",
       "      <th>email_domain</th>\n",
       "      <th>first_name</th>\n",
       "      <th>city</th>\n",
       "      <th>state</th>\n",
       "      <th>zip</th>\n",
       "      <th>degree_level</th>\n",
       "      <th>hs_or_ged_year</th>\n",
       "      <th>pcp_score</th>\n",
       "      <th>keyword</th>\n",
       "    </tr>\n",
       "  </thead>\n",
       "  <tbody>\n",
       "    <tr>\n",
       "      <th>0</th>\n",
       "      <td>234</td>\n",
       "      <td>2010-05-03 22:03:59</td>\n",
       "      <td>yahoo.com</td>\n",
       "      <td>Marcetta</td>\n",
       "      <td>Flint</td>\n",
       "      <td>MI</td>\n",
       "      <td>48504</td>\n",
       "      <td>HS</td>\n",
       "      <td>2009</td>\n",
       "      <td>0.318068</td>\n",
       "      <td>walmart jobs</td>\n",
       "    </tr>\n",
       "    <tr>\n",
       "      <th>1</th>\n",
       "      <td>529</td>\n",
       "      <td>2010-05-04 07:28:56</td>\n",
       "      <td>yahoo.com</td>\n",
       "      <td>AMIR</td>\n",
       "      <td>BARNAVELD</td>\n",
       "      <td>NY</td>\n",
       "      <td>13304</td>\n",
       "      <td>HS</td>\n",
       "      <td>1986</td>\n",
       "      <td>0.186209</td>\n",
       "      <td>Welder career</td>\n",
       "    </tr>\n",
       "    <tr>\n",
       "      <th>2</th>\n",
       "      <td>1929</td>\n",
       "      <td>2010-05-04 09:58:57</td>\n",
       "      <td>gmail.com</td>\n",
       "      <td>amy</td>\n",
       "      <td>Wilson</td>\n",
       "      <td>NC</td>\n",
       "      <td>27893</td>\n",
       "      <td>HS</td>\n",
       "      <td>2002</td>\n",
       "      <td>0.299836</td>\n",
       "      <td>bank teller career</td>\n",
       "    </tr>\n",
       "    <tr>\n",
       "      <th>3</th>\n",
       "      <td>1949</td>\n",
       "      <td>2010-05-04 10:00:26</td>\n",
       "      <td>gmail.com</td>\n",
       "      <td>meia</td>\n",
       "      <td>Taylor</td>\n",
       "      <td>MI</td>\n",
       "      <td>48180</td>\n",
       "      <td>HS</td>\n",
       "      <td>2002</td>\n",
       "      <td>0.282951</td>\n",
       "      <td>general labor employment</td>\n",
       "    </tr>\n",
       "    <tr>\n",
       "      <th>4</th>\n",
       "      <td>2405</td>\n",
       "      <td>2010-05-04 10:33:58</td>\n",
       "      <td>yahoo.com</td>\n",
       "      <td>tre'</td>\n",
       "      <td>Houma</td>\n",
       "      <td>LA</td>\n",
       "      <td>70363</td>\n",
       "      <td>Some HS</td>\n",
       "      <td>2010</td>\n",
       "      <td>0.170429</td>\n",
       "      <td>work in Houma LA</td>\n",
       "    </tr>\n",
       "  </tbody>\n",
       "</table>\n",
       "</div>"
      ],
      "text/plain": [
       "  member_id                 date email_domain first_name       city state  \\\n",
       "0       234  2010-05-03 22:03:59    yahoo.com   Marcetta      Flint    MI   \n",
       "1       529  2010-05-04 07:28:56    yahoo.com       AMIR  BARNAVELD    NY   \n",
       "2      1929  2010-05-04 09:58:57    gmail.com        amy     Wilson    NC   \n",
       "3      1949  2010-05-04 10:00:26    gmail.com       meia     Taylor    MI   \n",
       "4      2405  2010-05-04 10:33:58    yahoo.com       tre'      Houma    LA   \n",
       "\n",
       "     zip degree_level hs_or_ged_year pcp_score                   keyword  \n",
       "0  48504           HS           2009  0.318068              walmart jobs  \n",
       "1  13304           HS           1986  0.186209             Welder career  \n",
       "2  27893           HS           2002  0.299836        bank teller career  \n",
       "3  48180           HS           2002  0.282951  general labor employment  \n",
       "4  70363      Some HS           2010  0.170429          work in Houma LA  "
      ]
     },
     "execution_count": 38,
     "metadata": {},
     "output_type": "execute_result"
    }
   ],
   "source": [
    "members.head()"
   ]
  },
  {
   "cell_type": "code",
   "execution_count": null,
   "metadata": {
    "collapsed": true
   },
   "outputs": [],
   "source": [
    "#about an hour to ETL and understand all of the data"
   ]
  },
  {
   "cell_type": "code",
   "execution_count": 39,
   "metadata": {
    "collapsed": false,
    "scrolled": true
   },
   "outputs": [
    {
     "data": {
      "text/plain": [
       "DarkStar click                   74192\n",
       "walmart job                      61119\n",
       "walmart application              54882\n",
       "                                 19615\n",
       "walmart jobs                     19138\n",
       "FedEx +Job                       16810\n",
       "--ORGANIC--                      14918\n",
       "family dollar jobs               14777\n",
       "Adecco Jobs                      14239\n",
       "costco jobs                      14225\n",
       "kmart job                        14131\n",
       "Kelly Services Job               13523\n",
       "indeed                           11954\n",
       "dollar general jobs              10952\n",
       "Wendy's career                   10502\n",
       "UPS +Job                         10141\n",
       "BURGER KING                       9324\n",
       "FedEx +Jobs                       8802\n",
       "ups job                           8781\n",
       "kmart application                 8526\n",
       "walmart employment                8202\n",
       "kroger jobs                       7975\n",
       "walmart careers                   7852\n",
       "Costco job                        7787\n",
       "mcdonalds.com                     7561\n",
       "frito-lay jobs                    7501\n",
       "job application                   7278\n",
       "www.mcdonalds.com                 6672\n",
       "Frito-Lay +Jobs                   5726\n",
       "Kroger job                        5497\n",
       "                                 ...  \n",
       "The Boston Company Employment        1\n",
       "ethan allen job                      1\n",
       "Fairchild Medical Center Jobs        1\n",
       "Fabco +Jobs                          1\n",
       "Legal Sea Foods Job                  1\n",
       "www.agc.com                          1\n",
       "Midas Career                         1\n",
       "champaign job                        1\n",
       "Ohio State Government Work           1\n",
       "CARLOSOKELLYS.COM                    1\n",
       "www.Jpmorganchase.com                1\n",
       "veterinary job                       1\n",
       "Alliance For Career                  1\n",
       "Dow AgroSciences Careers             1\n",
       "food career market                   1\n",
       "work in Broadcasting CA              1\n",
       "Baylor Medical Center Job            1\n",
       "www.clearviewcinemas.com             1\n",
       "Sidley Austin Application            1\n",
       "wilsonart job                        1\n",
       "South Dakota Gov Work                1\n",
       "seattle work                         1\n",
       "Portland Govt Jobs                   1\n",
       "jobs in Pastry IL                    1\n",
       "esri.com                             1\n",
       "Liberty Career                       1\n",
       "Ruth Chris career                    1\n",
       "minooka jobs                         1\n",
       "calexico ca work                     1\n",
       "Avid Technology +Job                 1\n",
       "dtype: int64"
      ]
     },
     "execution_count": 39,
     "metadata": {},
     "output_type": "execute_result"
    }
   ],
   "source": [
    "members['keyword'].value_counts()"
   ]
  },
  {
   "cell_type": "code",
   "execution_count": 50,
   "metadata": {
    "collapsed": false
   },
   "outputs": [
    {
     "data": {
      "text/html": [
       "<div style=\"max-height:1000px;max-width:1500px;overflow:auto;\">\n",
       "<table border=\"1\" class=\"dataframe\">\n",
       "  <thead>\n",
       "    <tr style=\"text-align: right;\">\n",
       "      <th></th>\n",
       "      <th>member_id</th>\n",
       "      <th>date</th>\n",
       "      <th>email_domain</th>\n",
       "      <th>first_name</th>\n",
       "      <th>city</th>\n",
       "      <th>state</th>\n",
       "      <th>zip</th>\n",
       "      <th>degree_level</th>\n",
       "      <th>hs_or_ged_year</th>\n",
       "      <th>pcp_score</th>\n",
       "      <th>keyword</th>\n",
       "    </tr>\n",
       "  </thead>\n",
       "  <tbody>\n",
       "    <tr>\n",
       "      <th>1044094</th>\n",
       "      <td>14708719</td>\n",
       "      <td>2012-08-27 22:28:40</td>\n",
       "      <td>fuse.net</td>\n",
       "      <td>Shantel</td>\n",
       "      <td>NEWPORT</td>\n",
       "      <td>KY</td>\n",
       "      <td>41076</td>\n",
       "      <td>HS</td>\n",
       "      <td>2011</td>\n",
       "      <td>0.305409</td>\n",
       "      <td>adecco application</td>\n",
       "    </tr>\n",
       "  </tbody>\n",
       "</table>\n",
       "</div>"
      ],
      "text/plain": [
       "        member_id                 date email_domain first_name     city state  \\\n",
       "1044094  14708719  2012-08-27 22:28:40     fuse.net    Shantel  NEWPORT    KY   \n",
       "\n",
       "           zip degree_level hs_or_ged_year pcp_score             keyword  \n",
       "1044094  41076           HS           2011  0.305409  adecco application  "
      ]
     },
     "execution_count": 50,
     "metadata": {},
     "output_type": "execute_result"
    }
   ],
   "source": [
    "members[members['member_id'] == '14708719']"
   ]
  },
  {
   "cell_type": "code",
   "execution_count": 62,
   "metadata": {
    "collapsed": false
   },
   "outputs": [
    {
     "data": {
      "text/html": [
       "<div style=\"max-height:1000px;max-width:1500px;overflow:auto;\">\n",
       "<table border=\"1\" class=\"dataframe\">\n",
       "  <thead>\n",
       "    <tr style=\"text-align: right;\">\n",
       "      <th></th>\n",
       "      <th>email_id</th>\n",
       "      <th>timestamp_1</th>\n",
       "      <th>subject</th>\n",
       "      <th>type</th>\n",
       "      <th>?</th>\n",
       "      <th>main_type</th>\n",
       "      <th>sub_type</th>\n",
       "      <th>timestamp_2</th>\n",
       "      <th>action</th>\n",
       "    </tr>\n",
       "  </thead>\n",
       "  <tbody>\n",
       "    <tr>\n",
       "      <th>0</th>\n",
       "      <td>205569994</td>\n",
       "      <td>2012-09-01 00:00:07</td>\n",
       "      <td>Transactional JR Welcome Email</td>\n",
       "      <td>account_login_info_s2_v1</td>\n",
       "      <td>14802252</td>\n",
       "      <td>account_login_info_s2_v1</td>\n",
       "      <td>NaN</td>\n",
       "      <td>NaN</td>\n",
       "      <td>NaN</td>\n",
       "    </tr>\n",
       "    <tr>\n",
       "      <th>1</th>\n",
       "      <td>205569995</td>\n",
       "      <td>2012-09-01 00:00:07</td>\n",
       "      <td>Transactional JR Welcome Email</td>\n",
       "      <td>account_login_info_s2_v1</td>\n",
       "      <td>14802253</td>\n",
       "      <td>account_login_info_s2_v1</td>\n",
       "      <td>NaN</td>\n",
       "      <td>NaN</td>\n",
       "      <td>NaN</td>\n",
       "    </tr>\n",
       "    <tr>\n",
       "      <th>2</th>\n",
       "      <td>205569997</td>\n",
       "      <td>2012-09-01 00:00:07</td>\n",
       "      <td>Transactional JR Welcome Email</td>\n",
       "      <td>account_login_info_s2_v1</td>\n",
       "      <td>14802255</td>\n",
       "      <td>account_login_info_s2_v1</td>\n",
       "      <td>NaN</td>\n",
       "      <td>NaN</td>\n",
       "      <td>NaN</td>\n",
       "    </tr>\n",
       "    <tr>\n",
       "      <th>3</th>\n",
       "      <td>205569998</td>\n",
       "      <td>2012-09-01 00:00:07</td>\n",
       "      <td>Transactional JR Welcome Email</td>\n",
       "      <td>account_login_info_s2_v1</td>\n",
       "      <td>14802256</td>\n",
       "      <td>account_login_info_s2_v1</td>\n",
       "      <td>NaN</td>\n",
       "      <td>NaN</td>\n",
       "      <td>NaN</td>\n",
       "    </tr>\n",
       "    <tr>\n",
       "      <th>4</th>\n",
       "      <td>205570000</td>\n",
       "      <td>2012-09-01 00:00:07</td>\n",
       "      <td>Transactional JR Welcome Email</td>\n",
       "      <td>account_login_info_s2_v1</td>\n",
       "      <td>14802257</td>\n",
       "      <td>account_login_info_s2_v1</td>\n",
       "      <td>NaN</td>\n",
       "      <td>NaN</td>\n",
       "      <td>NaN</td>\n",
       "    </tr>\n",
       "  </tbody>\n",
       "</table>\n",
       "</div>"
      ],
      "text/plain": [
       "    email_id          timestamp_1                         subject  \\\n",
       "0  205569994  2012-09-01 00:00:07  Transactional JR Welcome Email   \n",
       "1  205569995  2012-09-01 00:00:07  Transactional JR Welcome Email   \n",
       "2  205569997  2012-09-01 00:00:07  Transactional JR Welcome Email   \n",
       "3  205569998  2012-09-01 00:00:07  Transactional JR Welcome Email   \n",
       "4  205570000  2012-09-01 00:00:07  Transactional JR Welcome Email   \n",
       "\n",
       "                       type         ?                 main_type sub_type  \\\n",
       "0  account_login_info_s2_v1  14802252  account_login_info_s2_v1      NaN   \n",
       "1  account_login_info_s2_v1  14802253  account_login_info_s2_v1      NaN   \n",
       "2  account_login_info_s2_v1  14802255  account_login_info_s2_v1      NaN   \n",
       "3  account_login_info_s2_v1  14802256  account_login_info_s2_v1      NaN   \n",
       "4  account_login_info_s2_v1  14802257  account_login_info_s2_v1      NaN   \n",
       "\n",
       "  timestamp_2 action  \n",
       "0         NaN    NaN  \n",
       "1         NaN    NaN  \n",
       "2         NaN    NaN  \n",
       "3         NaN    NaN  \n",
       "4         NaN    NaN  "
      ]
     },
     "execution_count": 62,
     "metadata": {},
     "output_type": "execute_result"
    }
   ],
   "source": [
    "complete_emails = pd.merge(emails, email_responses, how='outer', on='email_id', suffixes=['_1', '_2'])\n",
    "#pd.merge()\n",
    "complete_emails.head()"
   ]
  },
  {
   "cell_type": "code",
   "execution_count": null,
   "metadata": {
    "collapsed": true
   },
   "outputs": [],
   "source": [
    "emails.join()"
   ]
  }
 ],
 "metadata": {
  "kernelspec": {
   "display_name": "Python 2",
   "language": "python",
   "name": "python2"
  },
  "language_info": {
   "codemirror_mode": {
    "name": "ipython",
    "version": 2
   },
   "file_extension": ".py",
   "mimetype": "text/x-python",
   "name": "python",
   "nbconvert_exporter": "python",
   "pygments_lexer": "ipython2",
   "version": "2.7.8"
  }
 },
 "nbformat": 4,
 "nbformat_minor": 0
}

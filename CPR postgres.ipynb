{
 "cells": [
  {
   "cell_type": "code",
   "execution_count": 17,
   "metadata": {
    "collapsed": false
   },
   "outputs": [],
   "source": [
    "#sqlalchemy\n",
    "\n",
    "import datetime\n",
    "import postgresql\n",
    "import pandas\n",
    "import os\n",
    "from pandas import DataFrame as df\n",
    "pandas.options.display.max_rows = 999\n",
    "pandas.options.display.max_columns = 999\n",
    "\n",
    "from pandas import pivot_table\n",
    "from IPython import display\n",
    "import numpy as np\n",
    "import matplotlib.pyplot as plt\n",
    "%matplotlib inline\n",
    "#plt.figure(); rev_piv.plot(figsize=(15,15));\n",
    "\n",
    "status = \"\"\"SELECT * \n",
    "        FROM stv_recents \n",
    "        WHERE user_name = 'dmcdade_ro' AND status <> 'Done' \n",
    "        ORDER BY starttime DESC limit 10;\"\"\"\n",
    "\n",
    "db = postgresql.open( \n",
    "    user = 'postgres'\n",
    "    , database = 'CPR_production'\n",
    "    , password = 'indy2013gb'\n",
    "    , host = 'localhost'\n",
    "    , port = 5432\n",
    "    )\n",
    "\n",
    "def quick(sql,con=db):\n",
    "    qres = con.query(sql)\n",
    "    return qres\n",
    "\n",
    "#below function provides a dataframe result of a query\n",
    "def detail(sql,con=db):\n",
    "    qex = con.prepare(sql)\n",
    "    qcn = qex.column_names\n",
    "    qdata = qex()\n",
    "    res = df(data=qdata,columns=qcn)\n",
    "    return res"
   ]
  },
  {
   "cell_type": "code",
   "execution_count": 5,
   "metadata": {
    "collapsed": false
   },
   "outputs": [],
   "source": [
    "curr = detail(\"select * from currency_xrates where currency = 'CAD';\")"
   ]
  },
  {
   "cell_type": "code",
   "execution_count": 65,
   "metadata": {
    "collapsed": false
   },
   "outputs": [
    {
     "data": {
      "text/plain": [
       "[(223)]"
      ]
     },
     "execution_count": 65,
     "metadata": {},
     "output_type": "execute_result"
    }
   ],
   "source": [
    "quick(\"SELECT count(*) FROM merchant_revenue WHERE source = 'BankCard' and period = '2015-01';\")"
   ]
  },
  {
   "cell_type": "code",
   "execution_count": null,
   "metadata": {
    "collapsed": true
   },
   "outputs": [],
   "source": [
    "bcd"
   ]
  }
 ],
 "metadata": {
  "kernelspec": {
   "display_name": "Python 3",
   "language": "python",
   "name": "python3"
  },
  "language_info": {
   "codemirror_mode": {
    "name": "ipython",
    "version": 3
   },
   "file_extension": ".py",
   "mimetype": "text/x-python",
   "name": "python",
   "nbconvert_exporter": "python",
   "pygments_lexer": "ipython3",
   "version": "3.4.3"
  }
 },
 "nbformat": 4,
 "nbformat_minor": 0
}

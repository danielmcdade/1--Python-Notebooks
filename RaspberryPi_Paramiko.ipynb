{
 "cells": [
  {
   "cell_type": "markdown",
   "metadata": {},
   "source": [
    "### Connection Client for Raspberry Pi "
   ]
  },
  {
   "cell_type": "code",
   "execution_count": 19,
   "metadata": {
    "collapsed": true
   },
   "outputs": [],
   "source": [
    "from paramiko import SSHClient\n",
    "import pandas as pd\n",
    "import numpy as np"
   ]
  },
  {
   "cell_type": "code",
   "execution_count": 20,
   "metadata": {
    "collapsed": true
   },
   "outputs": [],
   "source": [
    "client = SSHClient()\n",
    "client.set_missing_host_key_policy(paramiko.AutoAddPolicy())\n",
    "client.connect(hostname='10.0.0.22', port=22, username='pi', password='raspberry')\n",
    "stdin, stdout, stderr = client.exec_command('ls -l')"
   ]
  },
  {
   "cell_type": "code",
   "execution_count": 21,
   "metadata": {
    "collapsed": false
   },
   "outputs": [
    {
     "name": "stdout",
     "output_type": "stream",
     "text": [
      "<paramiko.ChannelFile from <paramiko.Channel 0 (open) window=2097152 -> <paramiko.Transport at 0x3dfdcf8L (cipher aes128-ctr, 128 bits) (active; 1 open channel(s))>>>\n",
      "total 16\n",
      "drwxr-xr-x 3 pi pi 4096 Jan  5 02:26 Desktop\n",
      "-rw-r--r-- 1 pi pi 5781 Feb  3  2013 ocr_pi.png\n",
      "drwxrwxr-x 2 pi pi 4096 Jan  1  1970 python_games\n",
      "\n",
      "<paramiko.ChannelFile from <paramiko.Channel 0 (EOF received) (open) window=2097152 -> <paramiko.Transport at 0x3dfdcf8L (cipher aes128-ctr, 128 bits) (active; 1 open channel(s))>>>\n"
     ]
    }
   ],
   "source": [
    "print stdin\n",
    "print stdout.read()\n",
    "print stderr"
   ]
  },
  {
   "cell_type": "code",
   "execution_count": null,
   "metadata": {
    "collapsed": true
   },
   "outputs": [],
   "source": [
    "client = SSHClient()\n",
    "client.load_system_host_keys()\n",
    "client.connect(hostname='10.0.0.22', port=22, username='pi', password='raspberry')\n",
    "stdin, stdout, stderr = client.exec_command('ls -l')"
   ]
  },
  {
   "cell_type": "code",
   "execution_count": 18,
   "metadata": {
    "collapsed": false
   },
   "outputs": [
    {
     "name": "stdout",
     "output_type": "stream",
     "text": [
      "[u'total 16\\n', u'drwxr-xr-x 3 pi pi 4096 Jan  5 02:26 Desktop\\n', u'-rw-r--r-- 1 pi pi 5781 Feb  3  2013 ocr_pi.png\\n', u'drwxrwxr-x 2 pi pi 4096 Jan  1  1970 python_games\\n']\n"
     ]
    }
   ],
   "source": [
    "print stdout.readlines()"
   ]
  }
 ],
 "metadata": {
  "kernelspec": {
   "display_name": "Python 2",
   "language": "python",
   "name": "python2"
  },
  "language_info": {
   "codemirror_mode": {
    "name": "ipython",
    "version": 2
   },
   "file_extension": ".py",
   "mimetype": "text/x-python",
   "name": "python",
   "nbconvert_exporter": "python",
   "pygments_lexer": "ipython2",
   "version": "2.7.11"
  }
 },
 "nbformat": 4,
 "nbformat_minor": 0
}

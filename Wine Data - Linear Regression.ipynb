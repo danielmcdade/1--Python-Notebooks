{
 "cells": [
  {
   "cell_type": "code",
   "execution_count": 1,
   "metadata": {
    "collapsed": false
   },
   "outputs": [],
   "source": [
    "import sklearn\n",
    "import pandas\n",
    "from pandas import pivot_table\n",
    "import numpy\n",
    "import matplotlib\n",
    "import matplotlib.pylab as plt\n",
    "import os, sys\n",
    "import traceback\n",
    "%matplotlib inline"
   ]
  },
  {
   "cell_type": "code",
   "execution_count": 2,
   "metadata": {
    "collapsed": false
   },
   "outputs": [],
   "source": [
    "red = pandas.io.parsers.read_csv('C:\\\\Users\\\\Dan\\\\Notebooks\\\\Datasets\\\\winequality-red.csv', sep=';')\n",
    "white = pandas.io.parsers.read_csv('C:\\\\Users\\\\Dan\\\\Notebooks\\\\Datasets\\\\winequality-white.csv', sep=';')"
   ]
  },
  {
   "cell_type": "code",
   "execution_count": 34,
   "metadata": {
    "collapsed": false
   },
   "outputs": [
    {
     "data": {
      "image/png": "[encoded data removed]",
      "text/plain": [
       "<matplotlib.figure.Figure at 0xbe05048>"
      ]
     },
     "metadata": {},
     "output_type": "display_data"
    }
   ],
   "source": [
    "plt.scatter(red['alcohol'], red['quality'])\n",
    "plt.xlabel('Alcholol')\n",
    "plt.ylabel('Quality')\n",
    "plt.title('Alcohol AgainstQuality')\n",
    "plt.show()"
   ]
  },
  {
   "cell_type": "code",
   "execution_count": 35,
   "metadata": {
    "collapsed": false
   },
   "outputs": [
    {
     "data": {
      "text/html": [
       "<div style=\"max-height:1000px;max-width:1500px;overflow:auto;\">\n",
       "<table border=\"1\" class=\"dataframe\">\n",
       "  <thead>\n",
       "    <tr style=\"text-align: right;\">\n",
       "      <th></th>\n",
       "      <th>fixed acidity</th>\n",
       "      <th>volatile acidity</th>\n",
       "      <th>citric acid</th>\n",
       "      <th>residual sugar</th>\n",
       "      <th>chlorides</th>\n",
       "      <th>free sulfur dioxide</th>\n",
       "      <th>total sulfur dioxide</th>\n",
       "      <th>density</th>\n",
       "      <th>pH</th>\n",
       "      <th>sulphates</th>\n",
       "      <th>alcohol</th>\n",
       "      <th>quality</th>\n",
       "    </tr>\n",
       "  </thead>\n",
       "  <tbody>\n",
       "    <tr>\n",
       "      <th>0</th>\n",
       "      <td>  7.4</td>\n",
       "      <td> 0.70</td>\n",
       "      <td> 0.00</td>\n",
       "      <td> 1.9</td>\n",
       "      <td> 0.076</td>\n",
       "      <td> 11</td>\n",
       "      <td> 34</td>\n",
       "      <td> 0.9978</td>\n",
       "      <td> 3.51</td>\n",
       "      <td> 0.56</td>\n",
       "      <td> 9.4</td>\n",
       "      <td> 5</td>\n",
       "    </tr>\n",
       "    <tr>\n",
       "      <th>1</th>\n",
       "      <td>  7.8</td>\n",
       "      <td> 0.88</td>\n",
       "      <td> 0.00</td>\n",
       "      <td> 2.6</td>\n",
       "      <td> 0.098</td>\n",
       "      <td> 25</td>\n",
       "      <td> 67</td>\n",
       "      <td> 0.9968</td>\n",
       "      <td> 3.20</td>\n",
       "      <td> 0.68</td>\n",
       "      <td> 9.8</td>\n",
       "      <td> 5</td>\n",
       "    </tr>\n",
       "    <tr>\n",
       "      <th>2</th>\n",
       "      <td>  7.8</td>\n",
       "      <td> 0.76</td>\n",
       "      <td> 0.04</td>\n",
       "      <td> 2.3</td>\n",
       "      <td> 0.092</td>\n",
       "      <td> 15</td>\n",
       "      <td> 54</td>\n",
       "      <td> 0.9970</td>\n",
       "      <td> 3.26</td>\n",
       "      <td> 0.65</td>\n",
       "      <td> 9.8</td>\n",
       "      <td> 5</td>\n",
       "    </tr>\n",
       "    <tr>\n",
       "      <th>3</th>\n",
       "      <td> 11.2</td>\n",
       "      <td> 0.28</td>\n",
       "      <td> 0.56</td>\n",
       "      <td> 1.9</td>\n",
       "      <td> 0.075</td>\n",
       "      <td> 17</td>\n",
       "      <td> 60</td>\n",
       "      <td> 0.9980</td>\n",
       "      <td> 3.16</td>\n",
       "      <td> 0.58</td>\n",
       "      <td> 9.8</td>\n",
       "      <td> 6</td>\n",
       "    </tr>\n",
       "    <tr>\n",
       "      <th>4</th>\n",
       "      <td>  7.4</td>\n",
       "      <td> 0.70</td>\n",
       "      <td> 0.00</td>\n",
       "      <td> 1.9</td>\n",
       "      <td> 0.076</td>\n",
       "      <td> 11</td>\n",
       "      <td> 34</td>\n",
       "      <td> 0.9978</td>\n",
       "      <td> 3.51</td>\n",
       "      <td> 0.56</td>\n",
       "      <td> 9.4</td>\n",
       "      <td> 5</td>\n",
       "    </tr>\n",
       "  </tbody>\n",
       "</table>\n",
       "</div>"
      ],
      "text/plain": [
       "   fixed acidity  volatile acidity  citric acid  residual sugar  chlorides  \\\n",
       "0            7.4              0.70         0.00             1.9      0.076   \n",
       "1            7.8              0.88         0.00             2.6      0.098   \n",
       "2            7.8              0.76         0.04             2.3      0.092   \n",
       "3           11.2              0.28         0.56             1.9      0.075   \n",
       "4            7.4              0.70         0.00             1.9      0.076   \n",
       "\n",
       "   free sulfur dioxide  total sulfur dioxide  density    pH  sulphates  \\\n",
       "0                   11                    34   0.9978  3.51       0.56   \n",
       "1                   25                    67   0.9968  3.20       0.68   \n",
       "2                   15                    54   0.9970  3.26       0.65   \n",
       "3                   17                    60   0.9980  3.16       0.58   \n",
       "4                   11                    34   0.9978  3.51       0.56   \n",
       "\n",
       "   alcohol  quality  \n",
       "0      9.4        5  \n",
       "1      9.8        5  \n",
       "2      9.8        5  \n",
       "3      9.8        6  \n",
       "4      9.4        5  "
      ]
     },
     "execution_count": 35,
     "metadata": {},
     "output_type": "execute_result"
    }
   ],
   "source": [
    "red.head()"
   ]
  },
  {
   "cell_type": "code",
   "execution_count": 3,
   "metadata": {
    "collapsed": false
   },
   "outputs": [
    {
     "name": "stdout",
     "output_type": "stream",
     "text": [
      "R-squared: 0.31918382857\n",
      "0.290041628842 [ 0.13200871  0.31858135  0.34955348  0.369145    0.2809196 ]\n"
     ]
    }
   ],
   "source": [
    "from sklearn.linear_model import LinearRegression\n",
    "from sklearn.cross_validation import train_test_split\n",
    "from sklearn.cross_validation import cross_val_score\n",
    "\n",
    "X = red[list(red.columns)[:-1]]\n",
    "y = red['quality']\n",
    "X_train, X_test, y_train, y_test = train_test_split(X,y)\n",
    "\n",
    "regressor = LinearRegression()\n",
    "regressor.fit(X_train, y_train)\n",
    "y_predictions = regressor.predict(X_test)\n",
    "print 'R-squared:', regressor.score(X_test, y_test)\n",
    "\n",
    "#cross validation, cv = 5 fold\n",
    "scores = cross_val_score(regressor, X, y, cv=5)\n",
    "print scores.mean(), scores"
   ]
  },
  {
   "cell_type": "code",
   "execution_count": 45,
   "metadata": {
    "collapsed": true
   },
   "outputs": [
    {
     "name": "stdout",
     "output_type": "stream",
     "text": [
      "Predicted:  5.96310888333  Actual:  7\n",
      "Predicted:  6.28115539617  Actual:  6\n",
      "Predicted:  5.25223558754  Actual:  5\n",
      "Predicted:  6.35859961532  Actual:  6\n",
      "Predicted:  6.1475740095  Actual:  6\n",
      "Predicted:  5.07880031765  Actual:  5\n",
      "Predicted:  5.38844297122  Actual:  5\n",
      "Predicted:  4.90178792569  Actual:  6\n",
      "Predicted:  5.02891196121  Actual:  5\n",
      "Predicted:  5.61705173256  Actual:  6\n"
     ]
    }
   ],
   "source": [
    "for i, val in enumerate(y_predictions):\n",
    "    if i < 10:\n",
    "        print 'Predicted: ', val, ' Actual: ', y_test[i]"
   ]
  },
  {
   "cell_type": "code",
   "execution_count": 48,
   "metadata": {
    "collapsed": true
   },
   "outputs": [
    {
     "data": {
      "image/png": "[encoded data removed]",
      "text/plain": [
       "<matplotlib.figure.Figure at 0xce3a780>"
      ]
     },
     "metadata": {},
     "output_type": "display_data"
    }
   ],
   "source": [
    "plt.scatter(y_test, y_predictions)\n",
    "plt.xlabel('True Quality')\n",
    "plt.ylabel('Predicted Quality')\n",
    "plt.title('Quality Predictions')\n",
    "plt.show()"
   ]
  },
  {
   "cell_type": "code",
   "execution_count": null,
   "metadata": {
    "collapsed": true
   },
   "outputs": [],
   "source": []
  },
  {
   "cell_type": "code",
   "execution_count": 4,
   "metadata": {
    "collapsed": false
   },
   "outputs": [
    {
     "name": "stderr",
     "output_type": "stream",
     "text": [
      "C:\\Users\\Dan\\Anaconda\\lib\\site-packages\\sklearn\\utils\\validation.py:332: UserWarning: StandardScaler assumes floating point values as input, got int64\n",
      "  \"got %s\" % (estimator, X.dtype))\n"
     ]
    }
   ],
   "source": [
    "#Same model using SGDRegressor instead\n",
    "from sklearn.linear_model import SGDRegressor\n",
    "from sklearn.linear_model import LinearRegression\n",
    "from sklearn.cross_validation import train_test_split\n",
    "from sklearn.cross_validation import cross_val_score\n",
    "from sklearn.preprocessing import StandardScaler\n",
    "\n",
    "X = red[list(red.columns)[:-1]]\n",
    "y = red['quality']\n",
    "X_train, X_test, y_train, y_test = train_test_split(X,y)\n",
    "\n",
    "X_scaler = StandardScaler()\n",
    "y_scaler = StandardScaler()\n",
    "X_train = X_scaler.fit_transform(X_train)\n",
    "y_train = y_scaler.fit_transform(y_train)\n",
    "X_test = X_scaler.transform(X_test)\n",
    "y_test = y_scaler.transform(y_test)\n"
   ]
  },
  {
   "cell_type": "code",
   "execution_count": 23,
   "metadata": {
    "collapsed": false
   },
   "outputs": [
    {
     "name": "stdout",
     "output_type": "stream",
     "text": [
      "Cross validation r-squared scores: [ 0.31264357  0.37743908  0.37743338  0.36781652  0.30061872]\n",
      "Average cross validation r-squared score: 0.347190253352\n",
      "Test set r-squared score 0.321863917465\n"
     ]
    }
   ],
   "source": [
    "#n_iter=number iterations, higher number better results but slower performance\n",
    "regressor = SGDRegressor(loss='squared_loss',n_iter=100)\n",
    "scores = cross_val_score(regressor, X_train, y_train, cv=5)\n",
    "\n",
    "print 'Cross validation r-squared scores:', scores\n",
    "print 'Average cross validation r-squared score:', numpy.mean(scores)\n",
    "\n",
    "regressor.fit_transform(X_train, y_train)\n",
    "y_predict = regressor.predict(X_test)\n",
    "print 'Test set r-squared score', regressor.score(X_test, y_test)"
   ]
  },
  {
   "cell_type": "code",
   "execution_count": 7,
   "metadata": {
    "collapsed": false
   },
   "outputs": [
    {
     "data": {
      "text/plain": [
       "SGDRegressor(alpha=0.0001, epsilon=0.1, eta0=0.01, fit_intercept=True,\n",
       "       l1_ratio=0.15, learning_rate='invscaling', loss='squared_loss',\n",
       "       n_iter=5, penalty='l2', power_t=0.25, random_state=None,\n",
       "       shuffle=False, verbose=0, warm_start=False)"
      ]
     },
     "execution_count": 7,
     "metadata": {},
     "output_type": "execute_result"
    }
   ],
   "source": [
    "regressor"
   ]
  },
  {
   "cell_type": "code",
   "execution_count": 9,
   "metadata": {
    "collapsed": false
   },
   "outputs": [
    {
     "data": {
      "text/plain": [
       "array([ 0.08247757, -0.22682028, -0.02728853,  0.04361823, -0.08602716,\n",
       "        0.06287485, -0.14323954, -0.06198468, -0.06578927,  0.20324956,\n",
       "        0.32530454])"
      ]
     },
     "execution_count": 9,
     "metadata": {},
     "output_type": "execute_result"
    }
   ],
   "source": [
    "regressor.coef_"
   ]
  },
  {
   "cell_type": "code",
   "execution_count": 12,
   "metadata": {
    "collapsed": false,
    "scrolled": true
   },
   "outputs": [
    {
     "data": {
      "text/plain": [
       "{'alpha': 0.0001,\n",
       " 'epsilon': 0.1,\n",
       " 'eta0': 0.01,\n",
       " 'fit_intercept': True,\n",
       " 'l1_ratio': 0.15,\n",
       " 'learning_rate': 'invscaling',\n",
       " 'loss': 'squared_loss',\n",
       " 'n_iter': 5,\n",
       " 'penalty': 'l2',\n",
       " 'power_t': 0.25,\n",
       " 'random_state': None,\n",
       " 'shuffle': False,\n",
       " 'verbose': 0,\n",
       " 'warm_start': False}"
      ]
     },
     "execution_count": 12,
     "metadata": {},
     "output_type": "execute_result"
    }
   ],
   "source": [
    "regressor.get_params()"
   ]
  },
  {
   "cell_type": "code",
   "execution_count": null,
   "metadata": {
    "collapsed": true
   },
   "outputs": [],
   "source": []
  }
 ],
 "metadata": {
  "kernelspec": {
   "display_name": "Python 2",
   "language": "python",
   "name": "python2"
  },
  "language_info": {
   "codemirror_mode": {
    "name": "ipython",
    "version": 2
   },
   "file_extension": ".py",
   "mimetype": "text/x-python",
   "name": "python",
   "nbconvert_exporter": "python",
   "pygments_lexer": "ipython2",
   "version": "2.7.8"
  }
 },
 "nbformat": 4,
 "nbformat_minor": 0
}
